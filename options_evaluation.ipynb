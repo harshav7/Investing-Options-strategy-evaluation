{
  "nbformat": 4,
  "nbformat_minor": 0,
  "metadata": {
    "colab": {
      "name": "options evaluation.ipynb",
      "provenance": []
    },
    "kernelspec": {
      "name": "python3",
      "display_name": "Python 3"
    },
    "language_info": {
      "name": "python"
    }
  },
  "cells": [
    {
      "cell_type": "code",
      "metadata": {
        "colab": {
          "base_uri": "https://localhost:8080/"
        },
        "id": "fwcEpK3zNCy_",
        "outputId": "f13c4791-42fe-4480-8289-317ee82b3b58"
      },
      "source": [
        "import numpy as np\n",
        "import matplotlib.pyplot as plt\n",
        "\n",
        "def buycall(mkt, strike, wt, premium):\n",
        "  if (mkt > strike):\n",
        "    return (mkt - strike- premium)* wt\n",
        "  else:\n",
        "    return -1*premium* wt\n",
        "\n",
        "\n",
        "def sellcall(mkt,strike, wt, premium ):\n",
        "  if (mkt > strike):\n",
        "    return -1* (mkt - strike- premium)* wt\n",
        "  else:\n",
        "    return premium* wt\n"
      ],
      "execution_count": null,
      "outputs": [
        {
          "output_type": "execute_result",
          "data": {
            "text/plain": [
              "74025"
            ]
          },
          "metadata": {
            "tags": []
          },
          "execution_count": 24
        }
      ]
    },
    {
      "cell_type": "code",
      "metadata": {
        "colab": {
          "base_uri": "https://localhost:8080/",
          "height": 520
        },
        "id": "k_USSwrJO9Ph",
        "outputId": "96253da0-7b7f-4130-e60e-43f458b1576f"
      },
      "source": [
        "\n",
        "x = np.linspace(13000, 16000, num=15)\n",
        "y = []\n",
        "# APRIL DATA \n",
        "for i in x:\n",
        "  net = buycall(i, 13500, 75, 1413) + sellcall(i, 14500, 225, 526) + buycall(i, 15500, 150, 41)\n",
        "  y.append(round(net,0))\n",
        "\n",
        "# plotting the points \n",
        "plt.plot(x, y)\n",
        "\n",
        "# function to show the plot\n",
        "plt.show()\n",
        "for i in range(len(x)):\n",
        "  print(round(x[i],0),\":\",y[i])"
      ],
      "execution_count": null,
      "outputs": [
        {
          "output_type": "display_data",
          "data": {
            "image/png": "[encoded data removed]",
            "text/plain": [
              "<Figure size 432x288 with 1 Axes>"
            ]
          },
          "metadata": {
            "tags": [],
            "needs_background": "light"
          }
        },
        {
          "output_type": "stream",
          "text": [
            "13000.0 : 6225\n",
            "13214.0 : 6225\n",
            "13429.0 : 6225\n",
            "13643.0 : 16939.0\n",
            "13857.0 : 33011.0\n",
            "14071.0 : 49082.0\n",
            "14286.0 : 65154.0\n",
            "14500.0 : 81225.0\n",
            "14714.0 : 49082.0\n",
            "14929.0 : 16939.0\n",
            "15143.0 : -15204.0\n",
            "15357.0 : -47346.0\n",
            "15571.0 : -68775.0\n",
            "15786.0 : -68775.0\n",
            "16000.0 : -68775.0\n"
          ],
          "name": "stdout"
        }
      ]
    },
    {
      "cell_type": "code",
      "metadata": {
        "colab": {
          "base_uri": "https://localhost:8080/",
          "height": 520
        },
        "id": "cGE0YSugS9zp",
        "outputId": "751e6bb5-0ada-4f05-e1ac-620bc588fa50"
      },
      "source": [
        "\n",
        "x = np.linspace(13000, 16000, num=15)\n",
        "y = []\n",
        "# Dec DATA \n",
        "for i in x:\n",
        "  net = buycall(i, 13500, 75, 2260) + sellcall(i, 14500, 225, 1360) + buycall(i, 15500, 150, 760)\n",
        "  y.append(round(net,0))\n",
        "\n",
        "# plotting the points \n",
        "plt.plot(x, y)\n",
        "\n",
        "# function to show the plot\n",
        "plt.show()\n",
        "for i in range(len(x)):\n",
        "  print(round(x[i],0),\":\",y[i])\n"
      ],
      "execution_count": null,
      "outputs": [
        {
          "output_type": "display_data",
          "data": {
            "image/png": "[encoded data removed]",
            "text/plain": [
              "<Figure size 432x288 with 1 Axes>"
            ]
          },
          "metadata": {
            "tags": [],
            "needs_background": "light"
          }
        },
        {
          "output_type": "stream",
          "text": [
            "13000.0 : 22500\n",
            "13214.0 : 22500\n",
            "13429.0 : 22500\n",
            "13643.0 : 33214.0\n",
            "13857.0 : 49286.0\n",
            "14071.0 : 65357.0\n",
            "14286.0 : 81429.0\n",
            "14500.0 : 97500.0\n",
            "14714.0 : 65357.0\n",
            "14929.0 : 33214.0\n",
            "15143.0 : 1071.0\n",
            "15357.0 : -31071.0\n",
            "15571.0 : -52500.0\n",
            "15786.0 : -52500.0\n",
            "16000.0 : -52500.0\n"
          ],
          "name": "stdout"
        }
      ]
    },
    {
      "cell_type": "code",
      "metadata": {
        "colab": {
          "base_uri": "https://localhost:8080/",
          "height": 639
        },
        "id": "Z870TdOAUEB4",
        "outputId": "5d48a1e4-3969-4f42-aef3-5f77894bb3b2"
      },
      "source": [
        "\n",
        "x = np.linspace(13000, 16000, num=20)\n",
        "y = []\n",
        "# JUN DATA \n",
        "for i in x:\n",
        "  net = buycall(i, 13500, 75, 1559) + sellcall(i, 14500, 225, 790) + buycall(i, 15500, 150, 266)\n",
        "  y.append(round(net,0))\n",
        "\n",
        "# plotting the points \n",
        "plt.plot(x, y)\n",
        "\n",
        "# function to show the plot\n",
        "plt.show()\n",
        "for i in range(len(x)):\n",
        "  print(round(x[i],0),\":\",y[i])\n",
        "\n",
        "ttl = 1559*75+150*266+225*790*3\n",
        "print(ttl)\n"
      ],
      "execution_count": null,
      "outputs": [
        {
          "output_type": "display_data",
          "data": {
            "image/png": "[encoded data removed]",
            "text/plain": [
              "<Figure size 432x288 with 1 Axes>"
            ]
          },
          "metadata": {
            "tags": [],
            "needs_background": "light"
          }
        },
        {
          "output_type": "stream",
          "text": [
            "13000.0 : 20925\n",
            "13158.0 : 20925\n",
            "13316.0 : 20925\n",
            "13474.0 : 20925\n",
            "13632.0 : 30793.0\n",
            "13789.0 : 42636.0\n",
            "13947.0 : 54478.0\n",
            "14105.0 : 66320.0\n",
            "14263.0 : 78162.0\n",
            "14421.0 : 90004.0\n",
            "14579.0 : 84083.0\n",
            "14737.0 : 60399.0\n",
            "14895.0 : 36714.0\n",
            "15053.0 : 13030.0\n",
            "15211.0 : -10654.0\n",
            "15368.0 : -34338.0\n",
            "15526.0 : -54075.0\n",
            "15684.0 : -54075.0\n",
            "15842.0 : -54075.0\n",
            "16000.0 : -54075.0\n",
            "690075\n"
          ],
          "name": "stdout"
        },
        {
          "output_type": "execute_result",
          "data": {
            "text/plain": [
              "533250"
            ]
          },
          "metadata": {
            "tags": []
          },
          "execution_count": 70
        }
      ]
    },
    {
      "cell_type": "code",
      "metadata": {
        "colab": {
          "base_uri": "https://localhost:8080/",
          "height": 622
        },
        "id": "7xl5rlvddU-c",
        "outputId": "05b21eae-77a8-4149-804e-f2fd65ba3d2c"
      },
      "source": [
        "x = np.linspace(13000, 16000, num=20)\n",
        "y = []\n",
        "# JUN DATA \n",
        "for i in x:\n",
        "  net = buycall(i, 13500, 75, 1559) + sellcall(i, 14500, 225, 790) + buycall(i, 15500, 150, 266)\n",
        "  y.append(round(net,0))\n",
        "\n",
        "# plotting the points \n",
        "plt.plot(x, y)\n",
        "\n",
        "# function to show the plot\n",
        "plt.show()\n",
        "for i in range(len(x)):\n",
        "  print(round(x[i],0),\":\",y[i])\n",
        "\n",
        "ttl = 1559*75+150*266+225*790*3\n",
        "print(ttl)\n"
      ],
      "execution_count": null,
      "outputs": [
        {
          "output_type": "display_data",
          "data": {
            "image/png": "[encoded data removed]",
            "text/plain": [
              "<Figure size 432x288 with 1 Axes>"
            ]
          },
          "metadata": {
            "tags": [],
            "needs_background": "light"
          }
        },
        {
          "output_type": "stream",
          "text": [
            "13000.0 : 20925\n",
            "13158.0 : 20925\n",
            "13316.0 : 20925\n",
            "13474.0 : 20925\n",
            "13632.0 : 30793.0\n",
            "13789.0 : 42636.0\n",
            "13947.0 : 54478.0\n",
            "14105.0 : 66320.0\n",
            "14263.0 : 78162.0\n",
            "14421.0 : 90004.0\n",
            "14579.0 : 84083.0\n",
            "14737.0 : 60399.0\n",
            "14895.0 : 36714.0\n",
            "15053.0 : 13030.0\n",
            "15211.0 : -10654.0\n",
            "15368.0 : -34338.0\n",
            "15526.0 : -54075.0\n",
            "15684.0 : -54075.0\n",
            "15842.0 : -54075.0\n",
            "16000.0 : -54075.0\n",
            "690075\n"
          ],
          "name": "stdout"
        }
      ]
    },
    {
      "cell_type": "code",
      "metadata": {
        "colab": {
          "base_uri": "https://localhost:8080/",
          "height": 860
        },
        "id": "xYcZ9KiDXYyz",
        "outputId": "3e02e8f7-6a31-4bcd-efc5-16bfe88fb63c"
      },
      "source": [
        "\n",
        "x = np.linspace(11000, 17000, num=35)\n",
        "y = []\n",
        "# JUN DATA \n",
        "for i in x:\n",
        "  net = buycall(i, 14000, 75, 1311) + sellcall(i, 14500, 225, 790) + buycall(i, 15500, 150, 266)\n",
        "  y.append(round(net,0))\n",
        "\n",
        "# plotting the points \n",
        "plt.plot(x, y)\n",
        "\n",
        "# function to show the plot\n",
        "plt.show()\n",
        "for i in range(len(x)):\n",
        "  print(round(x[i],0),\":\",y[i])\n"
      ],
      "execution_count": null,
      "outputs": [
        {
          "output_type": "display_data",
          "data": {
            "image/png": "[encoded data removed]",
            "text/plain": [
              "<Figure size 432x288 with 1 Axes>"
            ]
          },
          "metadata": {
            "tags": [],
            "needs_background": "light"
          }
        },
        {
          "output_type": "stream",
          "text": [
            "11000.0 : 39525\n",
            "11176.0 : 39525\n",
            "11353.0 : 39525\n",
            "11529.0 : 39525\n",
            "11706.0 : 39525\n",
            "11882.0 : 39525\n",
            "12059.0 : 39525\n",
            "12235.0 : 39525\n",
            "12412.0 : 39525\n",
            "12588.0 : 39525\n",
            "12765.0 : 39525\n",
            "12941.0 : 39525\n",
            "13118.0 : 39525\n",
            "13294.0 : 39525\n",
            "13471.0 : 39525\n",
            "13647.0 : 39525\n",
            "13824.0 : 39525\n",
            "14000.0 : 39525\n",
            "14176.0 : 52760.0\n",
            "14353.0 : 65996.0\n",
            "14529.0 : 72613.0\n",
            "14706.0 : 46143.0\n",
            "14882.0 : 19672.0\n",
            "15059.0 : -6799.0\n",
            "15235.0 : -33269.0\n",
            "15412.0 : -59740.0\n",
            "15588.0 : -72975.0\n",
            "15765.0 : -72975.0\n",
            "15941.0 : -72975.0\n",
            "16118.0 : -72975.0\n",
            "16294.0 : -72975.0\n",
            "16471.0 : -72975.0\n",
            "16647.0 : -72975.0\n",
            "16824.0 : -72975.0\n",
            "17000.0 : -72975.0\n"
          ],
          "name": "stdout"
        }
      ]
    },
    {
      "cell_type": "code",
      "metadata": {
        "colab": {
          "base_uri": "https://localhost:8080/",
          "height": 863
        },
        "id": "Hj2ZhOveeRzX",
        "outputId": "6e94e054-dd73-492f-c1a7-f7c03db45bce"
      },
      "source": [
        "\n",
        "x = np.linspace(11000, 17000, num=35)\n",
        "y = []\n",
        "# JUN DATA \n",
        "for i in x:\n",
        "  net = buycall(i, 15000, 75, 502) + sellcall(i, 16000, 225, 110) + buycall(i, 17000, 150, 28)\n",
        "  y.append(round(net,0))\n",
        "\n",
        "# plotting the points \n",
        "plt.plot(x, y)\n",
        "\n",
        "# function to show the plot\n",
        "plt.show()\n",
        "for i in range(len(x)):\n",
        "  print(round(x[i],0),\":\",y[i])\n"
      ],
      "execution_count": null,
      "outputs": [
        {
          "output_type": "display_data",
          "data": {
            "image/png": "[encoded data removed]",
            "text/plain": [
              "<Figure size 432x288 with 1 Axes>"
            ]
          },
          "metadata": {
            "tags": [],
            "needs_background": "light"
          }
        },
        {
          "output_type": "stream",
          "text": [
            "11000.0 : -17100\n",
            "11176.0 : -17100\n",
            "11353.0 : -17100\n",
            "11529.0 : -17100\n",
            "11706.0 : -17100\n",
            "11882.0 : -17100\n",
            "12059.0 : -17100\n",
            "12235.0 : -17100\n",
            "12412.0 : -17100\n",
            "12588.0 : -17100\n",
            "12765.0 : -17100\n",
            "12941.0 : -17100\n",
            "13118.0 : -17100\n",
            "13294.0 : -17100\n",
            "13471.0 : -17100\n",
            "13647.0 : -17100\n",
            "13824.0 : -17100\n",
            "14000.0 : -17100\n",
            "14176.0 : -17100\n",
            "14353.0 : -17100\n",
            "14529.0 : -17100\n",
            "14706.0 : -17100\n",
            "14882.0 : -17100\n",
            "15059.0 : -12688.0\n",
            "15235.0 : 547.0\n",
            "15412.0 : 13782.0\n",
            "15588.0 : 27018.0\n",
            "15765.0 : 40253.0\n",
            "15941.0 : 53488.0\n",
            "16118.0 : 40253.0\n",
            "16294.0 : 13782.0\n",
            "16471.0 : -12688.0\n",
            "16647.0 : -39159.0\n",
            "16824.0 : -65629.0\n",
            "17000.0 : -92100.0\n"
          ],
          "name": "stdout"
        }
      ]
    },
    {
      "cell_type": "code",
      "metadata": {
        "colab": {
          "base_uri": "https://localhost:8080/",
          "height": 860
        },
        "id": "E8wxPJdhYAA_",
        "outputId": "13b63d83-b3f3-40a2-96c5-5d7196b2101c"
      },
      "source": [
        "x = np.linspace(11000, 17000, num=35)\n",
        "y = []\n",
        "# JUN DATA \n",
        "for i in x:\n",
        "  net = buycall(i, 14500, 75, 790) + sellcall(i, 15500, 225, 266) + buycall(i, 16500, 150, 46)\n",
        "  y.append(round(net,0))\n",
        "\n",
        "# plotting the points \n",
        "plt.plot(x, y)\n",
        "\n",
        "# function to show the plot\n",
        "plt.show()\n",
        "for i in range(len(x)):\n",
        "  print(round(x[i],0),\":\",y[i])\n"
      ],
      "execution_count": null,
      "outputs": [
        {
          "output_type": "display_data",
          "data": {
            "image/png": "[encoded data removed]",
            "text/plain": [
              "<Figure size 432x288 with 1 Axes>"
            ]
          },
          "metadata": {
            "tags": [],
            "needs_background": "light"
          }
        },
        {
          "output_type": "stream",
          "text": [
            "11000.0 : -6300\n",
            "11176.0 : -6300\n",
            "11353.0 : -6300\n",
            "11529.0 : -6300\n",
            "11706.0 : -6300\n",
            "11882.0 : -6300\n",
            "12059.0 : -6300\n",
            "12235.0 : -6300\n",
            "12412.0 : -6300\n",
            "12588.0 : -6300\n",
            "12765.0 : -6300\n",
            "12941.0 : -6300\n",
            "13118.0 : -6300\n",
            "13294.0 : -6300\n",
            "13471.0 : -6300\n",
            "13647.0 : -6300\n",
            "13824.0 : -6300\n",
            "14000.0 : -6300\n",
            "14176.0 : -6300\n",
            "14353.0 : -6300\n",
            "14529.0 : -4094.0\n",
            "14706.0 : 9141.0\n",
            "14882.0 : 22376.0\n",
            "15059.0 : 35612.0\n",
            "15235.0 : 48847.0\n",
            "15412.0 : 62082.0\n",
            "15588.0 : 55465.0\n",
            "15765.0 : 28994.0\n",
            "15941.0 : 2524.0\n",
            "16118.0 : -23947.0\n",
            "16294.0 : -50418.0\n",
            "16471.0 : -76888.0\n",
            "16647.0 : -81300.0\n",
            "16824.0 : -81300.0\n",
            "17000.0 : -81300.0\n"
          ],
          "name": "stdout"
        }
      ]
    },
    {
      "cell_type": "code",
      "metadata": {
        "colab": {
          "base_uri": "https://localhost:8080/",
          "height": 860
        },
        "id": "FzcwDC6vY9R7",
        "outputId": "ca0ca309-1115-4d03-b308-4391e9f3b9a5"
      },
      "source": [
        "x = np.linspace(11000, 17000, num=35)\n",
        "y = []\n",
        "# JUN DATA \n",
        "for i in x:\n",
        "  net = buycall(i, 13500, 75, 1559) + sellcall(i, 15500, 225, 266) + buycall(i, 16500, 150, 46)\n",
        "  y.append(round(net,0))\n",
        "\n",
        "# plotting the points \n",
        "plt.plot(x, y)\n",
        "\n",
        "# function to show the plot\n",
        "plt.show()\n",
        "for i in range(len(x)):\n",
        "  print(round(x[i],0),\":\",y[i])"
      ],
      "execution_count": null,
      "outputs": [
        {
          "output_type": "display_data",
          "data": {
            "image/png": "[encoded data removed]",
            "text/plain": [
              "<Figure size 432x288 with 1 Axes>"
            ]
          },
          "metadata": {
            "tags": [],
            "needs_background": "light"
          }
        },
        {
          "output_type": "stream",
          "text": [
            "11000.0 : -63975\n",
            "11176.0 : -63975\n",
            "11353.0 : -63975\n",
            "11529.0 : -63975\n",
            "11706.0 : -63975\n",
            "11882.0 : -63975\n",
            "12059.0 : -63975\n",
            "12235.0 : -63975\n",
            "12412.0 : -63975\n",
            "12588.0 : -63975\n",
            "12765.0 : -63975\n",
            "12941.0 : -63975\n",
            "13118.0 : -63975\n",
            "13294.0 : -63975\n",
            "13471.0 : -63975\n",
            "13647.0 : -52946.0\n",
            "13824.0 : -39710.0\n",
            "14000.0 : -26475.0\n",
            "14176.0 : -13240.0\n",
            "14353.0 : -4.0\n",
            "14529.0 : 13231.0\n",
            "14706.0 : 26466.0\n",
            "14882.0 : 39701.0\n",
            "15059.0 : 52937.0\n",
            "15235.0 : 66172.0\n",
            "15412.0 : 79407.0\n",
            "15588.0 : 72790.0\n",
            "15765.0 : 46319.0\n",
            "15941.0 : 19849.0\n",
            "16118.0 : -6622.0\n",
            "16294.0 : -33093.0\n",
            "16471.0 : -59563.0\n",
            "16647.0 : -63975.0\n",
            "16824.0 : -63975.0\n",
            "17000.0 : -63975.0\n"
          ],
          "name": "stdout"
        }
      ]
    },
    {
      "cell_type": "code",
      "metadata": {
        "colab": {
          "base_uri": "https://localhost:8080/",
          "height": 861
        },
        "id": "62_NCxcdZh65",
        "outputId": "abc6640a-c9f6-4afa-fa98-00dd7b0f0d47"
      },
      "source": [
        "x = np.linspace(11000, 17000, num=35)\n",
        "y = []\n",
        "# JUN DATA \n",
        "for i in x:\n",
        "  net = buycall(i, 13500, 75, 1559) + sellcall(i, 15000, 225, 502) + buycall(i, 16500, 150, 46)\n",
        "  y.append(round(net,0))\n",
        "\n",
        "# plotting the points \n",
        "plt.plot(x, y)\n",
        "\n",
        "# function to show the plot\n",
        "plt.show()\n",
        "for i in range(len(x)):\n",
        "  print(round(x[i],0),\":\",y[i])"
      ],
      "execution_count": null,
      "outputs": [
        {
          "output_type": "display_data",
          "data": {
            "image/png": "[encoded data removed]",
            "text/plain": [
              "<Figure size 432x288 with 1 Axes>"
            ]
          },
          "metadata": {
            "tags": [],
            "needs_background": "light"
          }
        },
        {
          "output_type": "stream",
          "text": [
            "11000.0 : -10875\n",
            "11176.0 : -10875\n",
            "11353.0 : -10875\n",
            "11529.0 : -10875\n",
            "11706.0 : -10875\n",
            "11882.0 : -10875\n",
            "12059.0 : -10875\n",
            "12235.0 : -10875\n",
            "12412.0 : -10875\n",
            "12588.0 : -10875\n",
            "12765.0 : -10875\n",
            "12941.0 : -10875\n",
            "13118.0 : -10875\n",
            "13294.0 : -10875\n",
            "13471.0 : -10875\n",
            "13647.0 : 154.0\n",
            "13824.0 : 13390.0\n",
            "14000.0 : 26625.0\n",
            "14176.0 : 39860.0\n",
            "14353.0 : 53096.0\n",
            "14529.0 : 66331.0\n",
            "14706.0 : 79566.0\n",
            "14882.0 : 92801.0\n",
            "15059.0 : 92801.0\n",
            "15235.0 : 66331.0\n",
            "15412.0 : 39860.0\n",
            "15588.0 : 13390.0\n",
            "15765.0 : -13081.0\n",
            "15941.0 : -39551.0\n",
            "16118.0 : -66022.0\n",
            "16294.0 : -92493.0\n",
            "16471.0 : -118963.0\n",
            "16647.0 : -123375.0\n",
            "16824.0 : -123375.0\n",
            "17000.0 : -123375.0\n"
          ],
          "name": "stdout"
        }
      ]
    },
    {
      "cell_type": "code",
      "metadata": {
        "colab": {
          "base_uri": "https://localhost:8080/",
          "height": 877
        },
        "id": "VdE1A8HbaFvQ",
        "outputId": "6ce5f8e9-4733-4c4b-e464-e86dacf67427"
      },
      "source": [
        "x = np.linspace(11000, 17000, num=35)\n",
        "y = []\n",
        "# JUN DATA \n",
        "for i in x:\n",
        "  net = buycall(i, 13500, 75, 1559) + sellcall(i, 15000, 225, 502) + buycall(i, 15500, 150, 226)\n",
        "  y.append(round(net,0))\n",
        "\n",
        "# plotting the points \n",
        "plt.plot(x, y)\n",
        "\n",
        "# function to show the plot\n",
        "plt.show()\n",
        "for i in range(len(x)):\n",
        "  print(round(x[i],0),\":\",y[i])\n",
        "\n",
        "ttlpremium = 1559 * 75 + 226 * 150 + 225 *502 *4\n",
        "print(ttlpremium)"
      ],
      "execution_count": null,
      "outputs": [
        {
          "output_type": "display_data",
          "data": {
            "image/png": "[encoded data removed]",
            "text/plain": [
              "<Figure size 432x288 with 1 Axes>"
            ]
          },
          "metadata": {
            "tags": [],
            "needs_background": "light"
          }
        },
        {
          "output_type": "stream",
          "text": [
            "11000.0 : -37875\n",
            "11176.0 : -37875\n",
            "11353.0 : -37875\n",
            "11529.0 : -37875\n",
            "11706.0 : -37875\n",
            "11882.0 : -37875\n",
            "12059.0 : -37875\n",
            "12235.0 : -37875\n",
            "12412.0 : -37875\n",
            "12588.0 : -37875\n",
            "12765.0 : -37875\n",
            "12941.0 : -37875\n",
            "13118.0 : -37875\n",
            "13294.0 : -37875\n",
            "13471.0 : -37875\n",
            "13647.0 : -26846.0\n",
            "13824.0 : -13610.0\n",
            "14000.0 : -375.0\n",
            "14176.0 : 12860.0\n",
            "14353.0 : 26096.0\n",
            "14529.0 : 39331.0\n",
            "14706.0 : 52566.0\n",
            "14882.0 : 65801.0\n",
            "15059.0 : 65801.0\n",
            "15235.0 : 39331.0\n",
            "15412.0 : 12860.0\n",
            "15588.0 : -375.0\n",
            "15765.0 : -375.0\n",
            "15941.0 : -375.0\n",
            "16118.0 : -375.0\n",
            "16294.0 : -375.0\n",
            "16471.0 : -375.0\n",
            "16647.0 : -375.0\n",
            "16824.0 : -375.0\n",
            "17000.0 : -375.0\n",
            "602625\n"
          ],
          "name": "stdout"
        }
      ]
    },
    {
      "cell_type": "code",
      "metadata": {
        "id": "T_InH-Puaa9t"
      },
      "source": [
        ""
      ],
      "execution_count": null,
      "outputs": []
    }
  ]
}